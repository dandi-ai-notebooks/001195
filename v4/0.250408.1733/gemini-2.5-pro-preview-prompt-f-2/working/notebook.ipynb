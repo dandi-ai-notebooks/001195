{
 "cells": [
  {
   "cell_type": "markdown",
   "id": "5cbf338a",
   "metadata": {},
   "source": [
    "# Exploring Dandiset 001195: Separable Dorsal Raphe Dopamine Projections Mediate the Facets of Loneliness-like State\n",
    "\n",
    "**Note:** This notebook was AI-generated and has not been fully verified. Please exercise caution when interpreting the code or results."
   ]
  },
  {
   "cell_type": "markdown",
   "id": "11e7e7e4",
   "metadata": {},
   "source": [
    "## Overview of the Dandiset\n",
    "\n",
    "This Dandiset, [DANDI:001195 (version 0.250408.1733)](https://dandiarchive.org/dandiset/001195/0.250408.1733), contains supporting data for the publication \"Separable Dorsal Raphe Dopamine Projections Mediate the Facets of Loneliness-like State\" by Lee, Matthews, et al. (bioRxiv 2025).\n",
    "\n",
    "The dataset includes:\n",
    "- In vivo calcium imaging data with supporting behavioral videos\n",
    "- Ex vivo patch-clamp electrophysiology recordings\n",
    "\n",
    "The study investigates the role of dorsal raphe dopamine projections in social behavior and loneliness-like states in mice.\n",
    "\n",
    "This notebook will cover:\n",
    "- How to list and connect to the Dandiset using the DANDI API.\n",
    "- How to access metadata for the Dandiset.\n",
    "- How to list assets (files) within the Dandiset.\n",
    "- How to load and inspect an NWB (Neurodata Without Borders) file containing intracellular electrophysiology data.\n",
    "- How to visualize a segment of a current-clamp recording from an NWB file."
   ]
  },
  {
   "cell_type": "markdown",
   "id": "9b4331b9",
   "metadata": {},
   "source": [
    "## Required Packages\n",
    "\n",
    "This notebook requires the following Python packages. It is assumed they are already installed:\n",
    "- `dandi`\n",
    "- `pynwb`\n",
    "- `h5py`\n",
    "- `remfile`\n",
    "- `matplotlib`\n",
    "- `numpy`\n",
    "- `seaborn`\n",
    "- `itertools`"
   ]
  },
  {
   "cell_type": "markdown",
   "id": "79dbd415",
   "metadata": {},
   "source": [
    "## Loading the Dandiset using the DANDI API"
   ]
  },
  {
   "cell_type": "code",
   "execution_count": 1,
   "id": "4cb0955b",
   "metadata": {
    "execution": {
     "iopub.execute_input": "2025-05-09T16:04:21.052291Z",
     "iopub.status.busy": "2025-05-09T16:04:21.051644Z",
     "iopub.status.idle": "2025-05-09T16:04:21.714421Z",
     "shell.execute_reply": "2025-05-09T16:04:21.713843Z"
    }
   },
   "outputs": [
    {
     "name": "stdout",
     "output_type": "stream",
     "text": [
      "Dandiset name: Separable Dorsal Raphe Dopamine Projections Mediate the Facets of Loneliness-like State\n",
      "Dandiset URL: https://dandiarchive.org/dandiset/001195/0.250408.1733\n",
      "Dandiset description: Supporting data for the publication \"Separable Dorsal Raphe Dopamine Projections Mediate the Facets of Loneliness-like State\" by Christopher R. Lee, Gillian A. Matthews, Mackenzie E. Lemieux, Elizabet...\n",
      "\n",
      "First 5 assets:\n",
      "- sub-23/sub-23_ses-20150324T134114_slice-slice-1_cell-C1_icephys.nwb (ID: a243dde4-c270-42a9-8550-025f5ffcd5a7)\n",
      "- sub-23/sub-23_ses-20150324T161217_slice-slice-2_cell-B3_icephys.nwb (ID: 8c1155c8-4531-4625-9515-e399f1b5f7bc)\n",
      "- sub-235/sub-235_ses-20200921T142415_slice-slice-1_cell-C3_icephys.nwb (ID: da3bb7c6-cd57-4c1a-92aa-2be38419088c)\n",
      "- sub-23/sub-23_ses-20150324T154615_slice-slice-2_cell-B2_icephys.nwb (ID: 85bf2dfb-0e2f-442d-b11c-e0d38bcc8783)\n",
      "- sub-23/sub-23_ses-20150324T152016_slice-slice-2_cell-B1_icephys.nwb (ID: 1bbc22a8-059d-4cd2-80c6-e1c20969ab19)\n"
     ]
    }
   ],
   "source": [
    "from itertools import islice\n",
    "from dandi.dandiapi import DandiAPIClient\n",
    "\n",
    "# Connect to DANDI archive\n",
    "client = DandiAPIClient()\n",
    "dandiset_id = \"001195\"\n",
    "dandiset_version = \"0.250408.1733\"\n",
    "dandiset = client.get_dandiset(dandiset_id, dandiset_version)\n",
    "\n",
    "# Print basic information about the Dandiset\n",
    "metadata = dandiset.get_raw_metadata()\n",
    "print(f\"Dandiset name: {metadata['name']}\")\n",
    "print(f\"Dandiset URL: {metadata['url']}\")\n",
    "print(f\"Dandiset description: {metadata.get('description', 'N/A')[:200]}...\") # Truncate for brevity\n",
    "\n",
    "# List some assets in the Dandiset\n",
    "assets = dandiset.get_assets()\n",
    "print(\"\\nFirst 5 assets:\")\n",
    "for asset in islice(assets, 5):\n",
    "    print(f\"- {asset.path} (ID: {asset.identifier})\") # Use asset.identifier"
   ]
  },
  {
   "cell_type": "markdown",
   "id": "fc33ce94",
   "metadata": {},
   "source": [
    "## Loading an NWB File and Inspecting Metadata\n",
    "\n",
    "We will now load one of the NWB files from the Dandiset. Let's choose the first NWB file listed in the previous step.\n",
    "For this example, we will use the asset `sub-23/sub-23_ses-20150324T134114_slice-slice-1_cell-C1_icephys.nwb`.\n",
    "The asset ID for this file (obtained from the previous cell or Dandiset asset listing) is `a243dde4-c270-42a9-8550-025f5ffcd5a7`."
   ]
  },
  {
   "cell_type": "code",
   "execution_count": 2,
   "id": "15a1e2ea",
   "metadata": {
    "execution": {
     "iopub.execute_input": "2025-05-09T16:04:21.716456Z",
     "iopub.status.busy": "2025-05-09T16:04:21.716187Z",
     "iopub.status.idle": "2025-05-09T16:04:35.693989Z",
     "shell.execute_reply": "2025-05-09T16:04:35.693503Z"
    }
   },
   "outputs": [
    {
     "name": "stdout",
     "output_type": "stream",
     "text": [
      "Selected NWB file path: sub-23/sub-23_ses-20150324T134114_slice-slice-1_cell-C1_icephys.nwb\n",
      "NWB file URL: https://api.dandiarchive.org/api/assets/a243dde4-c270-42a9-8550-025f5ffcd5a7/download/\n"
     ]
    },
    {
     "name": "stdout",
     "output_type": "stream",
     "text": [
      "\n",
      "Successfully loaded NWB file: a18b081c-3b63-45df-b702-fc3640aef3de\n",
      "Session description: episodic stimulation\n",
      "Session start time: 2015-03-24 13:41:14-07:00\n",
      "Experimenter: ('Matthews, Gillian',)\n"
     ]
    }
   ],
   "source": [
    "import pynwb\n",
    "import h5py\n",
    "import remfile\n",
    "import numpy as np\n",
    "import matplotlib.pyplot as plt\n",
    "import seaborn as sns\n",
    "\n",
    "# Apply seaborn theme for plots\n",
    "sns.set_theme()\n",
    "\n",
    "# --- Information for the selected NWB file ---\n",
    "asset_id = \"a243dde4-c270-42a9-8550-025f5ffcd5a7\" # From Dandiset assets exploration\n",
    "asset_path = \"sub-23/sub-23_ses-20150324T134114_slice-slice-1_cell-C1_icephys.nwb\"\n",
    "nwb_url = f\"https://api.dandiarchive.org/api/assets/{asset_id}/download/\"\n",
    "\n",
    "print(f\"Selected NWB file path: {asset_path}\")\n",
    "print(f\"NWB file URL: {nwb_url}\")\n",
    "\n",
    "# Load the NWB file\n",
    "# This uses the remfile library to stream the remote HDF5 file\n",
    "remote_f = remfile.File(nwb_url)\n",
    "h5_f = h5py.File(remote_f, mode='r')\n",
    "io = pynwb.NWBHDF5IO(file=h5_f, mode='r', load_namespaces=True)\n",
    "nwbfile = io.read()\n",
    "\n",
    "print(f\"\\nSuccessfully loaded NWB file: {nwbfile.identifier}\")\n",
    "print(f\"Session description: {nwbfile.session_description}\")\n",
    "print(f\"Session start time: {nwbfile.session_start_time}\")\n",
    "print(f\"Experimenter: {nwbfile.experimenter}\")"
   ]
  },
  {
   "cell_type": "markdown",
   "id": "f0f4cc21",
   "metadata": {},
   "source": [
    "### Neurosift Link\n",
    "\n",
    "You can explore this NWB file interactively on Neurosift using the following link:\n",
    "\n",
    "[Explore on Neurosift](https://neurosift.app/nwb?url=https://api.dandiarchive.org/api/assets/a243dde4-c270-42a9-8550-025f5ffcd5a7/download/&dandisetId=001195&dandisetVersion=draft)\n",
    "\n",
    "(Note: The Neurosift link uses `dandisetVersion=draft` which generally works for published versions too, but ideally would match the specific version `0.250408.1733` if supported by Neurosift's URL structure for versioned Dandisets.)"
   ]
  },
  {
   "cell_type": "markdown",
   "id": "48ce7f2d",
   "metadata": {},
   "source": [
    "### Contents of the NWB File\n",
    "\n",
    "Let's list the acquisition data series available in this NWB file. These typically contain the recorded electrophysiological traces."
   ]
  },
  {
   "cell_type": "code",
   "execution_count": 3,
   "id": "dcabcbbc",
   "metadata": {
    "execution": {
     "iopub.execute_input": "2025-05-09T16:04:35.695499Z",
     "iopub.status.busy": "2025-05-09T16:04:35.695246Z",
     "iopub.status.idle": "2025-05-09T16:04:35.698848Z",
     "shell.execute_reply": "2025-05-09T16:04:35.698338Z"
    }
   },
   "outputs": [
    {
     "name": "stdout",
     "output_type": "stream",
     "text": [
      "Available acquisition series:\n",
      "- current_clamp-response-01-ch-0 (type: CurrentClampSeries, unit: volts)\n",
      "- current_clamp-response-01-ch-1 (type: CurrentClampSeries, unit: volts)\n",
      "- current_clamp-response-02-ch-0 (type: CurrentClampSeries, unit: volts)\n",
      "- current_clamp-response-02-ch-1 (type: CurrentClampSeries, unit: volts)\n",
      "- current_clamp-response-03-ch-0 (type: CurrentClampSeries, unit: volts)\n",
      "- current_clamp-response-03-ch-1 (type: CurrentClampSeries, unit: volts)\n",
      "- current_clamp-response-04-ch-0 (type: CurrentClampSeries, unit: volts)\n",
      "- current_clamp-response-04-ch-1 (type: CurrentClampSeries, unit: volts)\n",
      "- current_clamp-response-05-ch-0 (type: CurrentClampSeries, unit: volts)\n",
      "- current_clamp-response-05-ch-1 (type: CurrentClampSeries, unit: volts)\n",
      "- current_clamp-response-06-ch-0 (type: CurrentClampSeries, unit: volts)\n",
      "- current_clamp-response-06-ch-1 (type: CurrentClampSeries, unit: volts)\n",
      "- current_clamp-response-07-ch-0 (type: CurrentClampSeries, unit: volts)\n",
      "- current_clamp-response-07-ch-1 (type: CurrentClampSeries, unit: volts)\n",
      "- current_clamp-response-08-ch-0 (type: CurrentClampSeries, unit: volts)\n",
      "- current_clamp-response-08-ch-1 (type: CurrentClampSeries, unit: volts)\n",
      "- current_clamp-response-09-ch-0 (type: CurrentClampSeries, unit: volts)\n",
      "- current_clamp-response-09-ch-1 (type: CurrentClampSeries, unit: volts)\n",
      "- current_clamp-response-10-ch-0 (type: CurrentClampSeries, unit: volts)\n",
      "- current_clamp-response-10-ch-1 (type: CurrentClampSeries, unit: volts)\n",
      "- current_clamp-response-11-ch-0 (type: CurrentClampSeries, unit: volts)\n",
      "- current_clamp-response-11-ch-1 (type: CurrentClampSeries, unit: volts)\n",
      "- current_clamp-response-12-ch-0 (type: CurrentClampSeries, unit: volts)\n",
      "- current_clamp-response-12-ch-1 (type: CurrentClampSeries, unit: volts)\n",
      "- current_clamp-response-13-ch-0 (type: CurrentClampSeries, unit: volts)\n",
      "- current_clamp-response-13-ch-1 (type: CurrentClampSeries, unit: volts)\n",
      "- current_clamp-response-14-ch-0 (type: CurrentClampSeries, unit: volts)\n",
      "- current_clamp-response-14-ch-1 (type: CurrentClampSeries, unit: volts)\n",
      "- current_clamp-response-15-ch-0 (type: CurrentClampSeries, unit: volts)\n",
      "- current_clamp-response-15-ch-1 (type: CurrentClampSeries, unit: volts)\n",
      "- current_clamp-response-16-ch-0 (type: CurrentClampSeries, unit: volts)\n",
      "- current_clamp-response-16-ch-1 (type: CurrentClampSeries, unit: volts)\n",
      "- current_clamp-response-17-ch-0 (type: CurrentClampSeries, unit: volts)\n",
      "- current_clamp-response-17-ch-1 (type: CurrentClampSeries, unit: volts)\n",
      "- current_clamp-response-18-ch-0 (type: CurrentClampSeries, unit: volts)\n",
      "- current_clamp-response-18-ch-1 (type: CurrentClampSeries, unit: volts)\n",
      "- current_clamp-response-19-ch-0 (type: CurrentClampSeries, unit: volts)\n",
      "- current_clamp-response-19-ch-1 (type: CurrentClampSeries, unit: volts)\n",
      "- current_clamp-response-20-ch-0 (type: CurrentClampSeries, unit: volts)\n",
      "- current_clamp-response-20-ch-1 (type: CurrentClampSeries, unit: volts)\n",
      "- current_clamp-response-21-ch-0 (type: CurrentClampSeries, unit: volts)\n",
      "- current_clamp-response-21-ch-1 (type: CurrentClampSeries, unit: volts)\n",
      "- current_clamp-response-42-ch-0 (type: CurrentClampSeries, unit: volts)\n",
      "- current_clamp-response-42-ch-1 (type: CurrentClampSeries, unit: volts)\n",
      "- current_clamp-response-43-ch-0 (type: CurrentClampSeries, unit: volts)\n",
      "- current_clamp-response-43-ch-1 (type: CurrentClampSeries, unit: volts)\n",
      "- histology_images (type: Images, unit: N/A)\n",
      "- voltage_clamp-response-22-ch-0 (type: VoltageClampSeries, unit: amperes)\n",
      "- voltage_clamp-response-22-ch-1 (type: VoltageClampSeries, unit: amperes)\n",
      "- voltage_clamp-response-23-ch-0 (type: VoltageClampSeries, unit: amperes)\n",
      "- voltage_clamp-response-23-ch-1 (type: VoltageClampSeries, unit: amperes)\n",
      "- voltage_clamp-response-24-ch-0 (type: VoltageClampSeries, unit: amperes)\n",
      "- voltage_clamp-response-24-ch-1 (type: VoltageClampSeries, unit: amperes)\n",
      "- voltage_clamp-response-25-ch-0 (type: VoltageClampSeries, unit: amperes)\n",
      "- voltage_clamp-response-25-ch-1 (type: VoltageClampSeries, unit: amperes)\n",
      "- voltage_clamp-response-26-ch-0 (type: VoltageClampSeries, unit: amperes)\n",
      "- voltage_clamp-response-26-ch-1 (type: VoltageClampSeries, unit: amperes)\n",
      "- voltage_clamp-response-27-ch-0 (type: VoltageClampSeries, unit: amperes)\n",
      "- voltage_clamp-response-27-ch-1 (type: VoltageClampSeries, unit: amperes)\n",
      "- voltage_clamp-response-28-ch-0 (type: VoltageClampSeries, unit: amperes)\n",
      "- voltage_clamp-response-28-ch-1 (type: VoltageClampSeries, unit: amperes)\n",
      "- voltage_clamp-response-29-ch-0 (type: VoltageClampSeries, unit: amperes)\n",
      "- voltage_clamp-response-29-ch-1 (type: VoltageClampSeries, unit: amperes)\n",
      "- voltage_clamp-response-30-ch-0 (type: VoltageClampSeries, unit: amperes)\n",
      "- voltage_clamp-response-30-ch-1 (type: VoltageClampSeries, unit: amperes)\n",
      "- voltage_clamp-response-31-ch-0 (type: VoltageClampSeries, unit: amperes)\n",
      "- voltage_clamp-response-31-ch-1 (type: VoltageClampSeries, unit: amperes)\n",
      "- voltage_clamp-response-32-ch-0 (type: VoltageClampSeries, unit: amperes)\n",
      "- voltage_clamp-response-32-ch-1 (type: VoltageClampSeries, unit: amperes)\n",
      "- voltage_clamp-response-33-ch-0 (type: VoltageClampSeries, unit: amperes)\n",
      "- voltage_clamp-response-33-ch-1 (type: VoltageClampSeries, unit: amperes)\n",
      "- voltage_clamp-response-34-ch-0 (type: VoltageClampSeries, unit: amperes)\n",
      "- voltage_clamp-response-34-ch-1 (type: VoltageClampSeries, unit: amperes)\n",
      "- voltage_clamp-response-35-ch-0 (type: VoltageClampSeries, unit: amperes)\n",
      "- voltage_clamp-response-35-ch-1 (type: VoltageClampSeries, unit: amperes)\n",
      "- voltage_clamp-response-36-ch-0 (type: VoltageClampSeries, unit: amperes)\n",
      "- voltage_clamp-response-36-ch-1 (type: VoltageClampSeries, unit: amperes)\n",
      "- voltage_clamp-response-37-ch-0 (type: VoltageClampSeries, unit: amperes)\n",
      "- voltage_clamp-response-37-ch-1 (type: VoltageClampSeries, unit: amperes)\n",
      "- voltage_clamp-response-38-ch-0 (type: VoltageClampSeries, unit: amperes)\n",
      "- voltage_clamp-response-38-ch-1 (type: VoltageClampSeries, unit: amperes)\n",
      "- voltage_clamp-response-39-ch-0 (type: VoltageClampSeries, unit: amperes)\n",
      "- voltage_clamp-response-39-ch-1 (type: VoltageClampSeries, unit: amperes)\n",
      "- voltage_clamp-response-40-ch-0 (type: VoltageClampSeries, unit: amperes)\n",
      "- voltage_clamp-response-40-ch-1 (type: VoltageClampSeries, unit: amperes)\n",
      "- voltage_clamp-response-41-ch-0 (type: VoltageClampSeries, unit: amperes)\n",
      "- voltage_clamp-response-41-ch-1 (type: VoltageClampSeries, unit: amperes)\n",
      "\n",
      "Available stimulus series:\n",
      "- stimulus-01-ch-0 (type: CurrentClampStimulusSeries, unit: amperes)\n",
      "- stimulus-01-ch-1 (type: CurrentClampStimulusSeries, unit: amperes)\n",
      "- stimulus-02-ch-0 (type: CurrentClampStimulusSeries, unit: amperes)\n",
      "- stimulus-02-ch-1 (type: CurrentClampStimulusSeries, unit: amperes)\n",
      "- stimulus-03-ch-0 (type: CurrentClampStimulusSeries, unit: amperes)\n",
      "- stimulus-03-ch-1 (type: CurrentClampStimulusSeries, unit: amperes)\n",
      "- stimulus-04-ch-0 (type: CurrentClampStimulusSeries, unit: amperes)\n",
      "- stimulus-04-ch-1 (type: CurrentClampStimulusSeries, unit: amperes)\n",
      "- stimulus-05-ch-0 (type: CurrentClampStimulusSeries, unit: amperes)\n",
      "- stimulus-05-ch-1 (type: CurrentClampStimulusSeries, unit: amperes)\n",
      "- stimulus-06-ch-0 (type: CurrentClampStimulusSeries, unit: amperes)\n",
      "- stimulus-06-ch-1 (type: CurrentClampStimulusSeries, unit: amperes)\n",
      "- stimulus-07-ch-0 (type: CurrentClampStimulusSeries, unit: amperes)\n",
      "- stimulus-07-ch-1 (type: CurrentClampStimulusSeries, unit: amperes)\n",
      "- stimulus-08-ch-0 (type: CurrentClampStimulusSeries, unit: amperes)\n",
      "- stimulus-08-ch-1 (type: CurrentClampStimulusSeries, unit: amperes)\n",
      "- stimulus-09-ch-0 (type: CurrentClampStimulusSeries, unit: amperes)\n",
      "- stimulus-09-ch-1 (type: CurrentClampStimulusSeries, unit: amperes)\n",
      "- stimulus-10-ch-0 (type: CurrentClampStimulusSeries, unit: amperes)\n",
      "- stimulus-10-ch-1 (type: CurrentClampStimulusSeries, unit: amperes)\n",
      "- stimulus-11-ch-0 (type: CurrentClampStimulusSeries, unit: amperes)\n",
      "- stimulus-11-ch-1 (type: CurrentClampStimulusSeries, unit: amperes)\n",
      "- stimulus-12-ch-0 (type: CurrentClampStimulusSeries, unit: amperes)\n",
      "- stimulus-12-ch-1 (type: CurrentClampStimulusSeries, unit: amperes)\n",
      "- stimulus-13-ch-0 (type: CurrentClampStimulusSeries, unit: amperes)\n",
      "- stimulus-13-ch-1 (type: CurrentClampStimulusSeries, unit: amperes)\n",
      "- stimulus-14-ch-0 (type: CurrentClampStimulusSeries, unit: amperes)\n",
      "- stimulus-14-ch-1 (type: CurrentClampStimulusSeries, unit: amperes)\n",
      "- stimulus-15-ch-0 (type: CurrentClampStimulusSeries, unit: amperes)\n",
      "- stimulus-15-ch-1 (type: CurrentClampStimulusSeries, unit: amperes)\n",
      "- stimulus-16-ch-0 (type: CurrentClampStimulusSeries, unit: amperes)\n",
      "- stimulus-16-ch-1 (type: CurrentClampStimulusSeries, unit: amperes)\n",
      "- stimulus-17-ch-0 (type: CurrentClampStimulusSeries, unit: amperes)\n",
      "- stimulus-17-ch-1 (type: CurrentClampStimulusSeries, unit: amperes)\n",
      "- stimulus-18-ch-0 (type: CurrentClampStimulusSeries, unit: amperes)\n",
      "- stimulus-18-ch-1 (type: CurrentClampStimulusSeries, unit: amperes)\n",
      "- stimulus-19-ch-0 (type: CurrentClampStimulusSeries, unit: amperes)\n",
      "- stimulus-19-ch-1 (type: CurrentClampStimulusSeries, unit: amperes)\n",
      "- stimulus-20-ch-0 (type: CurrentClampStimulusSeries, unit: amperes)\n",
      "- stimulus-20-ch-1 (type: CurrentClampStimulusSeries, unit: amperes)\n",
      "- stimulus-21-ch-0 (type: CurrentClampStimulusSeries, unit: amperes)\n",
      "- stimulus-21-ch-1 (type: CurrentClampStimulusSeries, unit: amperes)\n",
      "- stimulus-22-ch-0 (type: VoltageClampStimulusSeries, unit: volts)\n",
      "- stimulus-22-ch-1 (type: VoltageClampStimulusSeries, unit: volts)\n",
      "- stimulus-23-ch-0 (type: VoltageClampStimulusSeries, unit: volts)\n",
      "- stimulus-23-ch-1 (type: VoltageClampStimulusSeries, unit: volts)\n",
      "- stimulus-24-ch-0 (type: VoltageClampStimulusSeries, unit: volts)\n",
      "- stimulus-24-ch-1 (type: VoltageClampStimulusSeries, unit: volts)\n",
      "- stimulus-25-ch-0 (type: VoltageClampStimulusSeries, unit: volts)\n",
      "- stimulus-25-ch-1 (type: VoltageClampStimulusSeries, unit: volts)\n",
      "- stimulus-26-ch-0 (type: VoltageClampStimulusSeries, unit: volts)\n",
      "- stimulus-26-ch-1 (type: VoltageClampStimulusSeries, unit: volts)\n",
      "- stimulus-27-ch-0 (type: VoltageClampStimulusSeries, unit: volts)\n",
      "- stimulus-27-ch-1 (type: VoltageClampStimulusSeries, unit: volts)\n",
      "- stimulus-28-ch-0 (type: VoltageClampStimulusSeries, unit: volts)\n",
      "- stimulus-28-ch-1 (type: VoltageClampStimulusSeries, unit: volts)\n",
      "- stimulus-29-ch-0 (type: VoltageClampStimulusSeries, unit: volts)\n",
      "- stimulus-29-ch-1 (type: VoltageClampStimulusSeries, unit: volts)\n",
      "- stimulus-30-ch-0 (type: VoltageClampStimulusSeries, unit: volts)\n",
      "- stimulus-30-ch-1 (type: VoltageClampStimulusSeries, unit: volts)\n",
      "- stimulus-31-ch-0 (type: VoltageClampStimulusSeries, unit: volts)\n",
      "- stimulus-31-ch-1 (type: VoltageClampStimulusSeries, unit: volts)\n",
      "- stimulus-32-ch-0 (type: VoltageClampStimulusSeries, unit: volts)\n",
      "- stimulus-32-ch-1 (type: VoltageClampStimulusSeries, unit: volts)\n",
      "- stimulus-33-ch-0 (type: VoltageClampStimulusSeries, unit: volts)\n",
      "- stimulus-33-ch-1 (type: VoltageClampStimulusSeries, unit: volts)\n",
      "- stimulus-34-ch-0 (type: VoltageClampStimulusSeries, unit: volts)\n",
      "- stimulus-34-ch-1 (type: VoltageClampStimulusSeries, unit: volts)\n",
      "- stimulus-35-ch-0 (type: VoltageClampStimulusSeries, unit: volts)\n",
      "- stimulus-35-ch-1 (type: VoltageClampStimulusSeries, unit: volts)\n",
      "- stimulus-36-ch-0 (type: VoltageClampStimulusSeries, unit: volts)\n",
      "- stimulus-36-ch-1 (type: VoltageClampStimulusSeries, unit: volts)\n",
      "- stimulus-37-ch-0 (type: VoltageClampStimulusSeries, unit: volts)\n",
      "- stimulus-37-ch-1 (type: VoltageClampStimulusSeries, unit: volts)\n",
      "- stimulus-38-ch-0 (type: VoltageClampStimulusSeries, unit: volts)\n",
      "- stimulus-38-ch-1 (type: VoltageClampStimulusSeries, unit: volts)\n",
      "- stimulus-39-ch-0 (type: VoltageClampStimulusSeries, unit: volts)\n",
      "- stimulus-39-ch-1 (type: VoltageClampStimulusSeries, unit: volts)\n",
      "- stimulus-40-ch-0 (type: VoltageClampStimulusSeries, unit: volts)\n",
      "- stimulus-40-ch-1 (type: VoltageClampStimulusSeries, unit: volts)\n",
      "- stimulus-41-ch-0 (type: VoltageClampStimulusSeries, unit: volts)\n",
      "- stimulus-41-ch-1 (type: VoltageClampStimulusSeries, unit: volts)\n",
      "- stimulus-42-ch-0 (type: CurrentClampStimulusSeries, unit: amperes)\n",
      "- stimulus-42-ch-1 (type: CurrentClampStimulusSeries, unit: amperes)\n",
      "- stimulus-43-ch-0 (type: CurrentClampStimulusSeries, unit: amperes)\n",
      "- stimulus-43-ch-1 (type: CurrentClampStimulusSeries, unit: amperes)\n"
     ]
    }
   ],
   "source": [
    "print(\"Available acquisition series:\")\n",
    "if nwbfile.acquisition:\n",
    "    for series_name, series_obj in nwbfile.acquisition.items():\n",
    "        print(f\"- {series_name} (type: {type(series_obj).__name__}, unit: {series_obj.unit if hasattr(series_obj, 'unit') else 'N/A'})\")\n",
    "else:\n",
    "    print(\"No acquisition data found.\")\n",
    "\n",
    "print(\"\\nAvailable stimulus series:\")\n",
    "if nwbfile.stimulus:\n",
    "    for series_name, series_obj in nwbfile.stimulus.items():\n",
    "        print(f\"- {series_name} (type: {type(series_obj).__name__}, unit: {series_obj.unit if hasattr(series_obj, 'unit') else 'N/A'})\")\n",
    "else:\n",
    "    print(\"No stimulus data found.\")"
   ]
  },
  {
   "cell_type": "markdown",
   "id": "c9cd82b2",
   "metadata": {},
   "source": [
    "We can also look at the subject information:"
   ]
  },
  {
   "cell_type": "code",
   "execution_count": 4,
   "id": "a2c30a9f",
   "metadata": {
    "execution": {
     "iopub.execute_input": "2025-05-09T16:04:35.700006Z",
     "iopub.status.busy": "2025-05-09T16:04:35.699909Z",
     "iopub.status.idle": "2025-05-09T16:04:35.702492Z",
     "shell.execute_reply": "2025-05-09T16:04:35.702130Z"
    }
   },
   "outputs": [
    {
     "name": "stdout",
     "output_type": "stream",
     "text": [
      "Subject Information:\n",
      "  Subject ID: 23\n",
      "  Age: P302D\n",
      "  Sex: F\n",
      "  Species: Mus musculus\n",
      "  Genotype: heterozygote\n",
      "  Description: AAV5-DIO-ChR2-eYFP into DRN\n"
     ]
    }
   ],
   "source": [
    "if nwbfile.subject:\n",
    "    print(\"Subject Information:\")\n",
    "    print(f\"  Subject ID: {nwbfile.subject.subject_id}\")\n",
    "    print(f\"  Age: {nwbfile.subject.age}\")\n",
    "    print(f\"  Sex: {nwbfile.subject.sex}\")\n",
    "    print(f\"  Species: {nwbfile.subject.species}\")\n",
    "    print(f\"  Genotype: {nwbfile.subject.genotype}\")\n",
    "    print(f\"  Description: {nwbfile.subject.description}\")\n",
    "else:\n",
    "    print(\"No subject information found.\")"
   ]
  },
  {
   "cell_type": "markdown",
   "id": "f6efa89b",
   "metadata": {},
   "source": [
    "## Visualizing Data from the NWB File\n",
    "\n",
    "Let's visualize a segment of a Current Clamp Series. We'll use `current_clamp-response-01-ch-0` which was identified in the acquisition series list."
   ]
  },
  {
   "cell_type": "code",
   "execution_count": 5,
   "id": "b55dfe3c",
   "metadata": {
    "execution": {
     "iopub.execute_input": "2025-05-09T16:04:35.703468Z",
     "iopub.status.busy": "2025-05-09T16:04:35.703383Z",
     "iopub.status.idle": "2025-05-09T16:04:35.789726Z",
     "shell.execute_reply": "2025-05-09T16:04:35.789309Z"
    }
   },
   "outputs": [
    {
     "name": "stdout",
     "output_type": "stream",
     "text": [
      "Plotting first 1000 points of current_clamp-response-01-ch-0\n",
      "Data unit: volts\n",
      "Conversion factor: 3.051757880712104e-05\n"
     ]
    },
    {
     "data": {
      "image/png": "[encoded data removed]",
      "text/plain": [
       "<Figure size 1200x600 with 1 Axes>"
      ]
     },
     "metadata": {},
     "output_type": "display_data"
    }
   ],
   "source": [
    "series_to_plot_name = \"current_clamp-response-01-ch-0\"\n",
    "\n",
    "if nwbfile.acquisition and series_to_plot_name in nwbfile.acquisition:\n",
    "    current_clamp_series = nwbfile.acquisition[series_to_plot_name]\n",
    "\n",
    "    # Load a segment of data (e.g., first 1000 data points)\n",
    "    num_points_to_plot = 1000\n",
    "    data_segment = current_clamp_series.data[:num_points_to_plot]\n",
    "    \n",
    "    # Time vector\n",
    "    sampling_rate = current_clamp_series.rate\n",
    "    time_segment = np.arange(len(data_segment)) / sampling_rate + (current_clamp_series.starting_time or 0)\n",
    "\n",
    "    print(f\"Plotting first {num_points_to_plot} points of {series_to_plot_name}\")\n",
    "    print(f\"Data unit: {current_clamp_series.unit}\")\n",
    "    print(f\"Conversion factor: {current_clamp_series.conversion}\")\n",
    "    \n",
    "    plt.figure(figsize=(12, 6))\n",
    "    plt.plot(time_segment, data_segment)\n",
    "    plt.xlabel(f\"Time ({current_clamp_series.starting_time_unit})\")\n",
    "    plt.ylabel(f\"Potential ({current_clamp_series.unit})\")\n",
    "    plt.title(f\"Segment of {series_to_plot_name}\")\n",
    "    plt.grid(True)\n",
    "    plt.show()\n",
    "else:\n",
    "    print(f\"Series '{series_to_plot_name}' not found in acquisition data.\")"
   ]
  },
  {
   "cell_type": "markdown",
   "id": "a15fa05d",
   "metadata": {},
   "source": [
    "The plot above shows a segment of a current-clamp recording. The y-axis is in Volts.\n",
    "Note the scale of the y-axis; intracellular recordings are typically in the millivolt (mV) range. The data is presented as stored and converted using the metadata within the NWB file."
   ]
  },
  {
   "cell_type": "markdown",
   "id": "b191df54",
   "metadata": {},
   "source": [
    "## Summary and Future Directions\n",
    "\n",
    "This notebook demonstrated how to:\n",
    "- Connect to a Dandiset on the DANDI Archive.\n",
    "- Retrieve basic metadata and list assets.\n",
    "- Load an NWB file containing intracellular electrophysiology data.\n",
    "- Inspect metadata and contents of the NWB file, including available acquisition series.\n",
    "- Visualize a segment of a current-clamp recording.\n",
    "\n",
    "**Possible Future Directions for Analysis:**\n",
    "- **Explore other NWB files:** This Dandiset contains many NWB files. Similar methods can be applied to inspect and analyze data from other cells or experimental conditions.\n",
    "- **Detailed analysis of stimulus-response properties:** For current-clamp data, one could analyze firing patterns, spike shapes, and input resistance in response to different current injections. For voltage-clamp data, one could analyze ionic currents.\n",
    "- **Comparison across conditions:** If applicable (e.g., comparing data from socially isolated vs. control animals, though this specific NWB file is ex-vivo), one could compare electrophysiological properties across different experimental groups defined in the Dandiset.\n",
    "- **Relate to calcium imaging data:** The Dandiset also includes calcium imaging. Advanced analyses could aim to correlate findings from electrophysiology with neural activity patterns observed through imaging, if such connections are relevant and possible with the provided data structure.\n",
    "\n",
    "Researchers are encouraged to consult the original publication associated with this Dandiset for detailed experimental context and findings."
   ]
  },
  {
   "cell_type": "markdown",
   "id": "ccfd444d",
   "metadata": {},
   "source": [
    "Remember to close the NWB file IO object if you are done with it in a script context, though in a notebook, it's often left open for interactive exploration.\n",
    "For completeness in a script, you would do:\n",
    "```python\n",
    "# io.close()\n",
    "# h5_f.close() # remfile handles remote closing, but good practice for local files\n",
    "```\n",
    "However, we will leave it open here."
   ]
  },
  {
   "cell_type": "code",
   "execution_count": 6,
   "id": "f8a6ec68",
   "metadata": {
    "execution": {
     "iopub.execute_input": "2025-05-09T16:04:35.790888Z",
     "iopub.status.busy": "2025-05-09T16:04:35.790795Z",
     "iopub.status.idle": "2025-05-09T16:04:35.792863Z",
     "shell.execute_reply": "2025-05-09T16:04:35.792564Z"
    }
   },
   "outputs": [
    {
     "name": "stdout",
     "output_type": "stream",
     "text": [
      "Notebook exploration finished.\n"
     ]
    }
   ],
   "source": [
    "# Clean up for notebook execution if necessary, but often not needed for the final cell.\n",
    "# io.close() # To prevent resource warnings if re-run multiple times in some environments.\n",
    "# h5_f.close()\n",
    "print(\"Notebook exploration finished.\")"
   ]
  }
 ],
 "metadata": {
  "jupytext": {
   "cell_metadata_filter": "-all",
   "main_language": "python",
   "notebook_metadata_filter": "-all"
  },
  "language_info": {
   "codemirror_mode": {
    "name": "ipython",
    "version": 3
   },
   "file_extension": ".py",
   "mimetype": "text/x-python",
   "name": "python",
   "nbconvert_exporter": "python",
   "pygments_lexer": "ipython3",
   "version": "3.12.2"
  }
 },
 "nbformat": 4,
 "nbformat_minor": 5
}
