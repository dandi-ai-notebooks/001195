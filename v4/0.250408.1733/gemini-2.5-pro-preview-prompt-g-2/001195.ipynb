{
 "cells": [
  {
   "cell_type": "markdown",
   "id": "2f99347e",
   "metadata": {},
   "source": [
    "# Exploring Dandiset 001195: Separable Dorsal Raphe Dopamine Projections Mediate the Facets of Loneliness-like State\n",
    "\n",
    "**Note:** This notebook was AI-generated and has not been fully verified. Please be cautious when interpreting the code or results."
   ]
  },
  {
   "cell_type": "markdown",
   "id": "0910c2c0",
   "metadata": {},
   "source": [
    "## Overview of the Dandiset\n",
    "\n",
    "This Dandiset, titled \"Separable Dorsal Raphe Dopamine Projections Mediate the Facets of Loneliness-like State,\" supports the publication by Lee, Matthews, et al. (bioRxiv 2025.02.03.636224; doi: [10.1101/2025.02.03.636224](https://doi.org/10.1101/2025.02.03.636224)).\n",
    "\n",
    "The dataset includes:\n",
    "* In vivo calcium imaging data with supporting behavioral videos.\n",
    "* Ex vivo patch-clamp electrophysiology recordings.\n",
    "\n",
    "You can find more information and access the Dandiset at its DANDI Archive page:\n",
    "[DANDI:001195/0.250408.1733](https://dandiarchive.org/dandiset/001195/0.250408.1733)\n",
    "\n",
    "This notebook will cover:\n",
    "1. How to load basic information about the Dandiset using the DANDI API.\n",
    "2. How to select and load an NWB (Neurodata Without Borders) file from this Dandiset.\n",
    "3. How to access and visualize intracellular electrophysiology data (current clamp recordings) from an NWB file."
   ]
  },
  {
   "cell_type": "markdown",
   "id": "b1b5b3de",
   "metadata": {},
   "source": [
    "## Required Packages\n",
    "\n",
    "To run this notebook, you'll need the following Python packages. We assume these are already installed in your environment.\n",
    "\n",
    "* `dandi` (for interacting with the DANDI Archive)\n",
    "* `pynwb` (for working with NWB files)\n",
    "* `h5py` (dependency for NWB/remfile)\n",
    "* `remfile` (for streaming remote HDF5 files)\n",
    "* `matplotlib` (for plotting)\n",
    "* `numpy` (for numerical operations)\n",
    "* `seaborn` (for enhanced plotting styles)\n",
    "\n",
    "No `pip install` commands are included in this notebook."
   ]
  },
  {
   "cell_type": "markdown",
   "id": "9c75d82b",
   "metadata": {},
   "source": [
    "## 1. Loading Dandiset Information with the DANDI API"
   ]
  },
  {
   "cell_type": "code",
   "execution_count": 1,
   "id": "d80dfb54",
   "metadata": {
    "execution": {
     "iopub.execute_input": "2025-05-09T16:12:52.678790Z",
     "iopub.status.busy": "2025-05-09T16:12:52.678430Z",
     "iopub.status.idle": "2025-05-09T16:12:53.250492Z",
     "shell.execute_reply": "2025-05-09T16:12:53.249619Z"
    }
   },
   "outputs": [
    {
     "name": "stdout",
     "output_type": "stream",
     "text": [
      "Dandiset name: Separable Dorsal Raphe Dopamine Projections Mediate the Facets of Loneliness-like State\n",
      "Dandiset URL: https://dandiarchive.org/dandiset/001195/0.250408.1733\n",
      "Dandiset description: Supporting data for the publication \"Separable Dorsal Raphe Dopamine Projections Mediate the Facets of Loneliness-like State\" by Christopher R. Lee, Gillian A. Matthews, Mackenzie E. Lemieux, Elizabet...\n",
      "\n",
      "First 5 assets:\n",
      "- sub-23/sub-23_ses-20150324T134114_slice-slice-1_cell-C1_icephys.nwb (ID: a243dde4-c270-42a9-8550-025f5ffcd5a7)\n",
      "- sub-23/sub-23_ses-20150324T161217_slice-slice-2_cell-B3_icephys.nwb (ID: 8c1155c8-4531-4625-9515-e399f1b5f7bc)\n",
      "- sub-235/sub-235_ses-20200921T142415_slice-slice-1_cell-C3_icephys.nwb (ID: da3bb7c6-cd57-4c1a-92aa-2be38419088c)\n",
      "- sub-23/sub-23_ses-20150324T154615_slice-slice-2_cell-B2_icephys.nwb (ID: 85bf2dfb-0e2f-442d-b11c-e0d38bcc8783)\n",
      "- sub-23/sub-23_ses-20150324T152016_slice-slice-2_cell-B1_icephys.nwb (ID: 1bbc22a8-059d-4cd2-80c6-e1c20969ab19)\n"
     ]
    }
   ],
   "source": [
    "from itertools import islice\n",
    "from dandi.dandiapi import DandiAPIClient\n",
    "\n",
    "# Connect to DANDI archive\n",
    "client = DandiAPIClient()\n",
    "dandiset_id = \"001195\"\n",
    "version_id = \"0.250408.1733\"\n",
    "dandiset = client.get_dandiset(dandiset_id, version_id)\n",
    "\n",
    "# Print basic information about the Dandiset\n",
    "metadata = dandiset.get_raw_metadata()\n",
    "print(f\"Dandiset name: {metadata['name']}\")\n",
    "print(f\"Dandiset URL: {metadata['url']}\")\n",
    "print(f\"Dandiset description: {metadata.get('description', 'No description provided.')[:200]}...\") # First 200 chars\n",
    "\n",
    "# List some assets in the Dandiset\n",
    "assets = dandiset.get_assets()\n",
    "print(\"\\nFirst 5 assets:\")\n",
    "for asset in islice(assets, 5):\n",
    "    print(f\"- {asset.path} (ID: {asset.identifier})\")"
   ]
  },
  {
   "cell_type": "markdown",
   "id": "1ca9a828",
   "metadata": {},
   "source": [
    "## 2. Loading an NWB File\n",
    "\n",
    "We will now load one specific NWB file from the Dandiset. For this example, we'll use:\n",
    "\n",
    "* Path: `sub-23/sub-23_ses-20150324T134114_slice-slice-1_cell-C1_icephys.nwb`\n",
    "* Asset ID: `a243dde4-c270-42a9-8550-025f5ffcd5a7`\n",
    "\n",
    "The direct download URL for this asset is:\n",
    "`https://api.dandiarchive.org/api/assets/a243dde4-c270-42a9-8550-025f5ffcd5a7/download/`\n",
    "\n",
    "We'll use `pynwb`, `h5py`, and `remfile` to load and stream this remote NWB file."
   ]
  },
  {
   "cell_type": "code",
   "execution_count": 2,
   "id": "2ee7a7cd",
   "metadata": {
    "execution": {
     "iopub.execute_input": "2025-05-09T16:12:53.253716Z",
     "iopub.status.busy": "2025-05-09T16:12:53.253365Z",
     "iopub.status.idle": "2025-05-09T16:13:06.712280Z",
     "shell.execute_reply": "2025-05-09T16:13:06.711578Z"
    }
   },
   "outputs": [
    {
     "name": "stdout",
     "output_type": "stream",
     "text": [
      "Loading NWB file from: https://api.dandiarchive.org/api/assets/a243dde4-c270-42a9-8550-025f5ffcd5a7/download/\n"
     ]
    },
    {
     "name": "stdout",
     "output_type": "stream",
     "text": [
      "\n",
      "Successfully loaded NWB file: a18b081c-3b63-45df-b702-fc3640aef3de\n",
      "Session description: episodic stimulation\n",
      "Session start time: 2015-03-24 13:41:14-07:00\n"
     ]
    }
   ],
   "source": [
    "import pynwb\n",
    "import h5py\n",
    "import remfile\n",
    "import numpy as np\n",
    "import matplotlib.pyplot as plt\n",
    "import seaborn as sns\n",
    "\n",
    "# URL for the specific NWB file\n",
    "nwb_asset_id = \"a243dde4-c270-42a9-8550-025f5ffcd5a7\"\n",
    "nwb_url = f\"https://api.dandiarchive.org/api/assets/{nwb_asset_id}/download/\"\n",
    "print(f\"Loading NWB file from: {nwb_url}\")\n",
    "\n",
    "# Load the NWB file\n",
    "# Use remfile.File to open the remote HDF5 file for streaming\n",
    "remote_f = remfile.File(nwb_url)\n",
    "# Use h5py.File to interact with the HDF5 structure\n",
    "h5_f = h5py.File(remote_f, 'r')\n",
    "# Use pynwb.NWBHDF5IO to read the NWB content\n",
    "io = pynwb.NWBHDF5IO(file=h5_f, mode='r', load_namespaces=True)\n",
    "nwbfile = io.read()\n",
    "\n",
    "print(f\"\\nSuccessfully loaded NWB file: {nwbfile.identifier}\")\n",
    "print(f\"Session description: {nwbfile.session_description}\")\n",
    "print(f\"Session start time: {nwbfile.session_start_time}\")"
   ]
  },
  {
   "cell_type": "markdown",
   "id": "2b0bf813",
   "metadata": {},
   "source": [
    "### Explore this NWB file on Neurosift\n",
    "\n",
    "You can explore the contents of this NWB file interactively using Neurosift:\n",
    "[Neurosift Link for this NWB file](https://neurosift.app/nwb?url=https://api.dandiarchive.org/api/assets/a243dde4-c270-42a9-8550-025f5ffcd5a7/download/&dandisetId=001195&dandisetVersion=draft)"
   ]
  },
  {
   "cell_type": "markdown",
   "id": "0825b41d",
   "metadata": {},
   "source": [
    "### Summarizing NWB File Contents (Icephys)\n",
    "\n",
    "This NWB file contains intracellular electrophysiology data. Let's list some of the available data series in the `acquisition` group. These often represent recorded responses to stimuli."
   ]
  },
  {
   "cell_type": "code",
   "execution_count": 3,
   "id": "db73cdda",
   "metadata": {
    "execution": {
     "iopub.execute_input": "2025-05-09T16:13:06.713803Z",
     "iopub.status.busy": "2025-05-09T16:13:06.713554Z",
     "iopub.status.idle": "2025-05-09T16:13:06.716920Z",
     "shell.execute_reply": "2025-05-09T16:13:06.716494Z"
    }
   },
   "outputs": [
    {
     "name": "stdout",
     "output_type": "stream",
     "text": [
      "Available series in nwbfile.acquisition:\n",
      "- current_clamp-response-01-ch-0 (type: CurrentClampSeries)\n",
      "  Description: Response to: episodic stimulation, 1s steps, 20pA increments, -120pA to 260pA\n",
      "  Data shape: (3000,), Unit: volts\n",
      "- current_clamp-response-01-ch-1 (type: CurrentClampSeries)\n",
      "  Description: Response to: episodic stimulation, 1s steps, 20pA increments, -120pA to 260pA\n",
      "  Data shape: (3000,), Unit: volts\n",
      "- current_clamp-response-02-ch-0 (type: CurrentClampSeries)\n",
      "  Description: Response to: episodic stimulation, 1s steps, 20pA increments, -120pA to 260pA\n",
      "  Data shape: (3000,), Unit: volts\n",
      "- current_clamp-response-02-ch-1 (type: CurrentClampSeries)\n",
      "  Description: Response to: episodic stimulation, 1s steps, 20pA increments, -120pA to 260pA\n",
      "  Data shape: (3000,), Unit: volts\n",
      "- current_clamp-response-03-ch-0 (type: CurrentClampSeries)\n",
      "  Description: Response to: episodic stimulation, 1s steps, 20pA increments, -120pA to 260pA\n",
      "  Data shape: (3000,), Unit: volts\n"
     ]
    }
   ],
   "source": [
    "print(\"Available series in nwbfile.acquisition:\")\n",
    "for series_name, series_obj in nwbfile.acquisition.items():\n",
    "    print(f\"- {series_name} (type: {type(series_obj).__name__})\")\n",
    "    if hasattr(series_obj, 'description'):\n",
    "        print(f\"  Description: {series_obj.description}\")\n",
    "    if hasattr(series_obj, 'data'):\n",
    "        print(f\"  Data shape: {series_obj.data.shape}, Unit: {series_obj.unit}\")\n",
    "    if series_name.startswith(\"current_clamp-response-03\"): # Stop after a few for brevity\n",
    "        break"
   ]
  },
  {
   "cell_type": "markdown",
   "id": "329be6e9",
   "metadata": {},
   "source": [
    "Similarly, we can list stimulus series in `nwbfile.stimulus`:"
   ]
  },
  {
   "cell_type": "code",
   "execution_count": 4,
   "id": "9e3ce27d",
   "metadata": {
    "execution": {
     "iopub.execute_input": "2025-05-09T16:13:06.718144Z",
     "iopub.status.busy": "2025-05-09T16:13:06.718041Z",
     "iopub.status.idle": "2025-05-09T16:13:06.720635Z",
     "shell.execute_reply": "2025-05-09T16:13:06.720326Z"
    }
   },
   "outputs": [
    {
     "name": "stdout",
     "output_type": "stream",
     "text": [
      "\n",
      "Available series in nwbfile.stimulus:\n",
      "- stimulus-01-ch-0 (type: CurrentClampStimulusSeries)\n",
      "  Description: Stim type: episodic stimulation, 1s steps, 20pA increments, -120pA to 260pA\n",
      "  Data shape: (3000,), Unit: amperes\n",
      "- stimulus-01-ch-1 (type: CurrentClampStimulusSeries)\n",
      "  Description: Stim type: episodic stimulation, 1s steps, 20pA increments, -120pA to 260pA\n",
      "  Data shape: (3000,), Unit: amperes\n",
      "- stimulus-02-ch-0 (type: CurrentClampStimulusSeries)\n",
      "  Description: Stim type: episodic stimulation, 1s steps, 20pA increments, -120pA to 260pA\n",
      "  Data shape: (3000,), Unit: amperes\n",
      "- stimulus-02-ch-1 (type: CurrentClampStimulusSeries)\n",
      "  Description: Stim type: episodic stimulation, 1s steps, 20pA increments, -120pA to 260pA\n",
      "  Data shape: (3000,), Unit: amperes\n",
      "- stimulus-03-ch-0 (type: CurrentClampStimulusSeries)\n",
      "  Description: Stim type: episodic stimulation, 1s steps, 20pA increments, -120pA to 260pA\n",
      "  Data shape: (3000,), Unit: amperes\n"
     ]
    }
   ],
   "source": [
    "print(\"\\nAvailable series in nwbfile.stimulus:\")\n",
    "for series_name, series_obj in nwbfile.stimulus.items():\n",
    "    print(f\"- {series_name} (type: {type(series_obj).__name__})\")\n",
    "    if hasattr(series_obj, 'description'):\n",
    "        print(f\"  Description: {series_obj.description}\")\n",
    "    if hasattr(series_obj, 'data'):\n",
    "         print(f\"  Data shape: {series_obj.data.shape}, Unit: {series_obj.unit}\")\n",
    "    if series_name.startswith(\"stimulus-03\"): # Stop after a few for brevity\n",
    "        break"
   ]
  },
  {
   "cell_type": "markdown",
   "id": "dcd069f5",
   "metadata": {},
   "source": [
    "The file contains numerous `CurrentClampSeries` and `CurrentClampStimulusSeries`. These typically come in pairs, representing the electrical stimulus applied to a cell and the cell's voltage response. The descriptions often indicate the type of stimulation protocol used, such as \"episodic stimulation, 1s steps, 20pA increments\"."
   ]
  },
  {
   "cell_type": "markdown",
   "id": "b59f2598",
   "metadata": {},
   "source": [
    "## 3. Visualizing an Intracellular Recording Sweep\n",
    "\n",
    "Let's visualize one specific sweep. We'll choose sweep \"15\" as an example because it involves a depolarizing current injection that elicits action potentials, providing a clear demonstration of neuronal excitability.\n",
    "\n",
    "To explore other sweeps, you could iterate through the different `current_clamp-response-XX-ch-0` (and corresponding `stimulus-XX-ch-0`) series available in `nwbfile.acquisition` and `nwbfile.stimulus`. The `XX` in the name typically corresponds to the sweep number in a sequence (e.g., \"01\", \"02\", ..., \"21\", \"42\", \"43\" as seen in the `nwb-file-info` output for this file). By plotting various sweeps, you can observe how the neuron's response changes with different levels of current injection.\n",
    "\n",
    "We'll plot both the stimulus current and the recorded voltage response for our chosen sweep. Each sweep in this specific dataset appears to be 0.3 seconds long (3000 samples at 10 kHz)."
   ]
  },
  {
   "cell_type": "code",
   "execution_count": 5,
   "id": "fa0ce4d8",
   "metadata": {
    "execution": {
     "iopub.execute_input": "2025-05-09T16:13:06.721844Z",
     "iopub.status.busy": "2025-05-09T16:13:06.721751Z",
     "iopub.status.idle": "2025-05-09T16:13:06.884024Z",
     "shell.execute_reply": "2025-05-09T16:13:06.883574Z"
    }
   },
   "outputs": [
    {
     "data": {
      "image/png": "[encoded data removed]",
      "text/plain": [
       "<Figure size 1000x500 with 2 Axes>"
      ]
     },
     "metadata": {},
     "output_type": "display_data"
    },
    {
     "name": "stdout",
     "output_type": "stream",
     "text": [
      "Showing sweep 15:\n",
      "  Response: current_clamp-response-15-ch-0, Description: Response to: episodic stimulation, 1s steps, 20pA increments, -120pA to 260pA\n",
      "  Stimulus: stimulus-15-ch-0, Description: Stim type: episodic stimulation, 1s steps, 20pA increments, -120pA to 260pA\n",
      "  Sweep duration: 0.300 s\n"
     ]
    }
   ],
   "source": [
    "# Select the sweep to plot\n",
    "sweep_num_str = \"15\" # This sweep showed action potentials in exploration\n",
    "\n",
    "acquisition = nwbfile.acquisition\n",
    "stimulus_dict = nwbfile.stimulus\n",
    "\n",
    "response_series_name = f\"current_clamp-response-{sweep_num_str}-ch-0\"\n",
    "stimulus_series_name = f\"stimulus-{sweep_num_str}-ch-0\"\n",
    "\n",
    "if response_series_name in acquisition and stimulus_series_name in stimulus_dict:\n",
    "    response_series = acquisition[response_series_name]\n",
    "    stimulus_series = stimulus_dict[stimulus_series_name]\n",
    "\n",
    "    # Get response data\n",
    "    response_data_raw = response_series.data[:]\n",
    "    response_conversion = response_series.conversion\n",
    "    response_data_converted = response_data_raw * response_conversion\n",
    "    response_rate = response_series.rate\n",
    "    # Timestamps relative to sweep start\n",
    "    response_timestamps = (np.arange(len(response_data_converted)) / response_rate)\n",
    "    response_unit = response_series.unit\n",
    "    response_abs_start_time = response_series.starting_time\n",
    "\n",
    "    # Get stimulus data\n",
    "    stimulus_data_raw = stimulus_series.data[:]\n",
    "    stimulus_conversion = stimulus_series.conversion\n",
    "    stimulus_data_converted = stimulus_data_raw * stimulus_conversion\n",
    "    stimulus_rate = stimulus_series.rate\n",
    "    # Timestamps relative to sweep start\n",
    "    stimulus_timestamps = (np.arange(len(stimulus_data_converted)) / stimulus_rate)\n",
    "    stimulus_unit = stimulus_series.unit\n",
    "    stimulus_abs_start_time = stimulus_series.starting_time\n",
    "\n",
    "    stim_val_pA = 0\n",
    "    if len(np.unique(stimulus_data_raw)) > 1 and stimulus_conversion != 0:\n",
    "        non_zero_stim = stimulus_data_raw[stimulus_data_raw != 0]\n",
    "        if len(non_zero_stim) > 0:\n",
    "            stim_val_pA = np.median(non_zero_stim) * stimulus_conversion * 1e12 # pA\n",
    "\n",
    "    # Plot\n",
    "    sns.set_theme()\n",
    "    fig, ax1 = plt.subplots(figsize=(10, 5))\n",
    "\n",
    "    color_response = 'tab:blue'\n",
    "    ax1.set_xlabel(f\"Time within sweep (s)\\n(Absolute start: {response_abs_start_time:.2f}s)\")\n",
    "    ax1.set_ylabel(f\"Voltage ({response_unit})\", color=color_response)\n",
    "    ax1.plot(response_timestamps, response_data_converted, color=color_response)\n",
    "    ax1.tick_params(axis='y', labelcolor=color_response)\n",
    "    ax1.set_title(f\"Sweep {sweep_num_str} ({response_series.description[:30]}...)\\nStimulus: ~{stim_val_pA:.0f} pA\")\n",
    "    ax1.set_xlim(response_timestamps[0], response_timestamps[-1])\n",
    "\n",
    "    # Add annotation for the first action potential\n",
    "    # Approximate coordinates from visual inspection of plot_05.png for sweep 15\n",
    "    # (time relative to sweep start, voltage)\n",
    "    # First spike around t=0.13s (relative), V ~ 0.04V\n",
    "    # We need to find the index for t_peak_approx in response_timestamps\n",
    "    t_peak_approx_relative = 0.13  # Relative time of AP peak chosen for annotation\n",
    "    v_peak_approx = 0.04   # Approximate voltage of AP peak\n",
    "    \n",
    "    # Find the data point closest to t_peak_approx_relative for annotation\n",
    "    # This is illustrative; more robust peak detection would be needed for automated analysis.\n",
    "    peak_time_for_annotation = -1\n",
    "    peak_voltage_for_annotation = -1\n",
    "\n",
    "    if len(response_timestamps) > 0:\n",
    "        # Find index of timestamp closest to t_peak_approx_relative\n",
    "        time_diffs = np.abs(response_timestamps - t_peak_approx_relative)\n",
    "        idx_closest_to_peak = np.argmin(time_diffs) # index of the closest time\n",
    "        \n",
    "        # Get actual time and voltage at this index for annotation\n",
    "        peak_time_for_annotation = response_timestamps[idx_closest_to_peak]\n",
    "        peak_voltage_for_annotation = response_data_converted[idx_closest_to_peak]\n",
    "\n",
    "        # Only annotate if we found a reasonable point and it's somewhat spike-like\n",
    "        if peak_time_for_annotation > 0.1 and peak_voltage_for_annotation > 0: # Basic check\n",
    "             ax1.annotate('Action Potential',\n",
    "                         xy=(peak_time_for_annotation, peak_voltage_for_annotation),\n",
    "                         xytext=(peak_time_for_annotation + 0.05, peak_voltage_for_annotation + 0.01),\n",
    "                         arrowprops=dict(facecolor='black', shrink=0.05, width=1, headwidth=5),\n",
    "                         fontsize=9)\n",
    "\n",
    "    ax2 = ax1.twinx()\n",
    "    color_stimulus = 'tab:red'\n",
    "    ax2.set_ylabel(f\"Stimulus ({stimulus_unit.replace('amperes', 'A')})\", color=color_stimulus) # Shorten unit\n",
    "    ax2.plot(stimulus_timestamps, stimulus_data_converted, color=color_stimulus, linestyle='--')\n",
    "    ax2.tick_params(axis='y', labelcolor=color_stimulus)\n",
    "\n",
    "    fig.tight_layout()\n",
    "    plt.show()\n",
    "\n",
    "    print(f\"Showing sweep {sweep_num_str}:\")\n",
    "    print(f\"  Response: {response_series_name}, Description: {response_series.description}\")\n",
    "    print(f\"  Stimulus: {stimulus_series_name}, Description: {stimulus_series.description}\")\n",
    "    print(f\"  Sweep duration: {len(response_data_converted)/response_rate:.3f} s\")\n",
    "\n",
    "else:\n",
    "    print(f\"Could not find series for sweep {sweep_num_str} in the NWB file.\")"
   ]
  },
  {
   "cell_type": "markdown",
   "id": "4a213fea",
   "metadata": {},
   "source": [
    "### Interpreting the Plot\n",
    "\n",
    "The plot above shows the voltage response (blue trace) of a neuron to a step of current injection (red dashed trace).\n",
    "\n",
    "*   The **stimulus** is a positive current step, indicating a depolarizing current was injected into the cell. The title provides an estimate of its amplitude (~160 pA in this case). The stimulus is applied for a portion of the sweep (typically 100ms, from 0.1s to 0.2s in this 0.3s sweep).\n",
    "*   The **voltage response** shows:\n",
    "    *   An initial resting membrane potential (around -0.075 V or -75 mV before the stimulus).\n",
    "    *   Depolarization of the membrane potential during the current injection.\n",
    "    *   Firing of action potentials (the sharp, rapid upward and downward spikes) when the depolarization reaches the neuron's threshold. In this example, two action potentials are visible.\n",
    "    *   After the current step ends, the membrane potential repolarizes, returning towards its resting state.\n",
    "\n",
    "This type of plot is fundamental for characterizing the electrical properties of neurons, such as their firing threshold, firing patterns, and input resistance."
   ]
  },
  {
   "cell_type": "markdown",
   "id": "fc12c8eb",
   "metadata": {},
   "source": [
    "## Summary and Future Directions\n",
    "\n",
    "This notebook demonstrated how to:\n",
    "*   Connect to the DANDI Archive and retrieve information about a Dandiset.\n",
    "*   Load a specific NWB file containing intracellular electrophysiology data from the DANDI Archive.\n",
    "*   Inspect the contents of the NWB file, particularly `CurrentClampSeries` and `CurrentClampStimulusSeries`.\n",
    "*   Visualize a single sweep of current clamp data, showing the stimulus and the neuron's voltage response, including action potentials.\n",
    "\n",
    "### Possible Future Directions for Analysis:\n",
    "\n",
    "*   **Analyze multiple sweeps:** Iterate through all sweeps of an episodic stimulation protocol to plot a family of responses (e.g., an I-V curve showing voltage deflection vs. current, or an F-I curve showing firing rate vs. current).\n",
    "*   **Extract spike features:** If action potentials are present, one could implement algorithms to detect spikes and analyze their features (e.g., threshold, amplitude, width, AHP).\n",
    "*   **Calculate membrane properties:** From subthreshold responses to current steps, passive membrane properties like input resistance and membrane time constant could be estimated.\n",
    "*   **Compare across conditions/cell types:** If the Dandiset contains data from different experimental conditions or cell types, similar analyses could be applied and compared.\n",
    "*   **Explore other data types:** This Dandiset also contains calcium imaging and behavioral video data, which could be explored using appropriate tools and methods.\n",
    "\n",
    "This notebook provides a starting point for researchers to begin their own exploration and analysis of Dandiset 001195."
   ]
  },
  {
   "cell_type": "code",
   "execution_count": 6,
   "id": "728364ff",
   "metadata": {
    "execution": {
     "iopub.execute_input": "2025-05-09T16:13:06.885635Z",
     "iopub.status.busy": "2025-05-09T16:13:06.885226Z",
     "iopub.status.idle": "2025-05-09T16:13:06.893451Z",
     "shell.execute_reply": "2025-05-09T16:13:06.893029Z"
    }
   },
   "outputs": [
    {
     "name": "stdout",
     "output_type": "stream",
     "text": [
      "Closed NWB file resources.\n"
     ]
    }
   ],
   "source": [
    "# Close the HDF5 file and the remfile object when done.\n",
    "# Note: In a Jupyter notebook, this might ideally be done at the very end\n",
    "# or if the nwbfile object is no longer needed. For simplicity in هذا المثال,\n",
    "# we'll do it here. If you plan to run more cells using 'nwbfile',\n",
    "# you might move this to a final cleanup cell.\n",
    "\n",
    "if 'io' in locals() and io is not None:\n",
    "    io.close()\n",
    "if 'h5_f' in locals() and h5_f is not None:\n",
    "    h5_f.close()\n",
    "if 'remote_f' in locals() and remote_f is not None:\n",
    "    remote_f.close()\n",
    "\n",
    "print(\"Closed NWB file resources.\")"
   ]
  }
 ],
 "metadata": {
  "jupytext": {
   "cell_metadata_filter": "-all",
   "main_language": "python",
   "notebook_metadata_filter": "-all"
  },
  "language_info": {
   "codemirror_mode": {
    "name": "ipython",
    "version": 3
   },
   "file_extension": ".py",
   "mimetype": "text/x-python",
   "name": "python",
   "nbconvert_exporter": "python",
   "pygments_lexer": "ipython3",
   "version": "3.12.2"
  }
 },
 "nbformat": 4,
 "nbformat_minor": 5
}
